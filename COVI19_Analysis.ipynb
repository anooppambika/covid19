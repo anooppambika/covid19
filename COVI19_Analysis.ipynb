{
 "cells": [
  {
   "cell_type": "markdown",
   "metadata": {},
   "source": [
    "# Create an ODE based simple model\n",
    "The `COVID-19` has a latent period of 6-14 days ($1/\\gamma$), and Reproduction rate ($R_0$) fluctuats between (1-3) in initial period and stabilizing to 1.5.\n",
    "\n",
    " \n",
    "Estimated the mean basic reproduction number(R0) of SARS-CoV-2 to range between 2.24 (95% CI: 1.96-2.55) and 3.58 (95% CI: 2.89-4.39) in the early phase of the outbreak[1](https://doi.org/10.1101/2020.02.11.20022186)."
   ]
  },
  {
   "cell_type": "code",
   "execution_count": 1,
   "metadata": {},
   "outputs": [],
   "source": [
    "import pandas as pd\n",
    "import matplotlib.pyplot as plt\n",
    "\n",
    "_path = './data/state-reports-2020-03-28.csv'\n",
    "# _path_xl = './data/KeralaCovidOnset.xlsx'"
   ]
  },
  {
   "cell_type": "code",
   "execution_count": 2,
   "metadata": {},
   "outputs": [],
   "source": [
    "# covid_dfxl = pd.read_excel(_path_xl, sheet_name='District Wise Data', \n",
    "#                            parse_dates=['Date']).groupby(['District','Date']).sum().reset_index()\n",
    "# district_name = 'Total'\n",
    "# covid_dfxl_total = covid_dfxl.loc[covid_dfxl['District']==district_name].set_index('Date')\n",
    "# covid_dfxl_total"
   ]
  },
  {
   "cell_type": "code",
   "execution_count": 3,
   "metadata": {},
   "outputs": [],
   "source": [
    "use_cols = ['Corona positive', 'Cured discharged', 'Deaths','Created at']\n",
    "covid_df = pd.read_csv(_path, usecols=use_cols, parse_dates=['Created at'])\n",
    "covid_df['date'] = covid_df['Created at'].apply(lambda x: pd.to_datetime(x.date))"
   ]
  },
  {
   "cell_type": "code",
   "execution_count": 4,
   "metadata": {},
   "outputs": [],
   "source": [
    "fit_param_dat = covid_df.set_index('date').sort_index().loc[pd.to_datetime('2020-03-08'):,['Corona positive','Cured discharged']]"
   ]
  },
  {
   "cell_type": "code",
   "execution_count": 5,
   "metadata": {},
   "outputs": [
    {
     "data": {
      "image/png": "[encoded data removed]",
      "text/plain": [
       "<Figure size 432x288 with 1 Axes>"
      ]
     },
     "metadata": {},
     "output_type": "display_data"
    }
   ],
   "source": [
    "fit_param_dat['Corona positive'].plot(marker='o')\n",
    "plt.show()"
   ]
  },
  {
   "cell_type": "code",
   "execution_count": 6,
   "metadata": {},
   "outputs": [
    {
     "data": {
      "text/plain": [
       "(18, 2)"
      ]
     },
     "execution_count": 6,
     "metadata": {},
     "output_type": "execute_result"
    }
   ],
   "source": [
    "fit_param_dat.shape"
   ]
  },
  {
   "cell_type": "markdown",
   "metadata": {},
   "source": [
    "## Fit the Data to Estimate Parameters"
   ]
  },
  {
   "cell_type": "code",
   "execution_count": 7,
   "metadata": {},
   "outputs": [],
   "source": [
    "from pygom import common_models, SquareLoss\n",
    "from pygom import DeterministicOde, Transition, SimulateOde, TransitionType\n",
    "import graphviz\n",
    "import scipy\n",
    "from scipy.optimize import minimize\n",
    "import numpy as np"
   ]
  },
  {
   "cell_type": "code",
   "execution_count": 8,
   "metadata": {},
   "outputs": [
    {
     "data": {
      "image/png": "[encoded data removed]",
      "text/plain": [
       "<Figure size 432x288 with 1 Axes>"
      ]
     },
     "metadata": {},
     "output_type": "display_data"
    },
    {
     "data": {
      "image/svg+xml": [
       "<?xml version=\"1.0\" encoding=\"UTF-8\" standalone=\"no\"?>\n",
       "<!DOCTYPE svg PUBLIC \"-//W3C//DTD SVG 1.1//EN\"\n",
       " \"http://www.w3.org/Graphics/SVG/1.1/DTD/svg11.dtd\">\n",
       "<!-- Generated by graphviz version 2.40.1 (20161225.0304)\n",
       " -->\n",
       "<!-- Title: %3 Pages: 1 -->\n",
       "<svg width=\"310pt\" height=\"44pt\"\n",
       " viewBox=\"0.00 0.00 310.00 44.00\" xmlns=\"http://www.w3.org/2000/svg\" xmlns:xlink=\"http://www.w3.org/1999/xlink\">\n",
       "<g id=\"graph0\" class=\"graph\" transform=\"scale(1 1) rotate(0) translate(4 40)\">\n",
       "<title>%3</title>\n",
       "<polygon fill=\"#ffffff\" stroke=\"transparent\" points=\"-4,4 -4,-40 306,-40 306,4 -4,4\"/>\n",
       "<!-- S -->\n",
       "<g id=\"node1\" class=\"node\">\n",
       "<title>S</title>\n",
       "<ellipse fill=\"none\" stroke=\"#000000\" cx=\"27\" cy=\"-18\" rx=\"27\" ry=\"18\"/>\n",
       "<text text-anchor=\"middle\" x=\"27\" y=\"-14.3\" font-family=\"Times,serif\" font-size=\"14.00\" fill=\"#000000\">S</text>\n",
       "</g>\n",
       "<!-- I -->\n",
       "<g id=\"node2\" class=\"node\">\n",
       "<title>I</title>\n",
       "<ellipse fill=\"none\" stroke=\"#000000\" cx=\"165\" cy=\"-18\" rx=\"27\" ry=\"18\"/>\n",
       "<text text-anchor=\"middle\" x=\"165\" y=\"-14.3\" font-family=\"Times,serif\" font-size=\"14.00\" fill=\"#000000\">I</text>\n",
       "</g>\n",
       "<!-- S&#45;&gt;I -->\n",
       "<g id=\"edge1\" class=\"edge\">\n",
       "<title>S&#45;&gt;I</title>\n",
       "<path fill=\"none\" stroke=\"#000000\" d=\"M54.2644,-18C75.2445,-18 104.4706,-18 127.6299,-18\"/>\n",
       "<polygon fill=\"#000000\" stroke=\"#000000\" points=\"127.7923,-21.5001 137.7923,-18 127.7922,-14.5001 127.7923,-21.5001\"/>\n",
       "<text text-anchor=\"middle\" x=\"96\" y=\"-21.8\" font-family=\"Times,serif\" font-size=\"14.00\" fill=\"#000000\">β*S*I/N</text>\n",
       "</g>\n",
       "<!-- R -->\n",
       "<g id=\"node3\" class=\"node\">\n",
       "<title>R</title>\n",
       "<ellipse fill=\"none\" stroke=\"#000000\" cx=\"275\" cy=\"-18\" rx=\"27\" ry=\"18\"/>\n",
       "<text text-anchor=\"middle\" x=\"275\" y=\"-14.3\" font-family=\"Times,serif\" font-size=\"14.00\" fill=\"#000000\">R</text>\n",
       "</g>\n",
       "<!-- I&#45;&gt;R -->\n",
       "<g id=\"edge2\" class=\"edge\">\n",
       "<title>I&#45;&gt;R</title>\n",
       "<path fill=\"none\" stroke=\"#000000\" d=\"M192.191,-18C205.809,-18 222.5136,-18 237.3439,-18\"/>\n",
       "<polygon fill=\"#000000\" stroke=\"#000000\" points=\"237.7406,-21.5001 247.7406,-18 237.7405,-14.5001 237.7406,-21.5001\"/>\n",
       "<text text-anchor=\"middle\" x=\"220\" y=\"-21.8\" font-family=\"Times,serif\" font-size=\"14.00\" fill=\"#000000\">γ*I</text>\n",
       "</g>\n",
       "</g>\n",
       "</svg>\n"
      ],
      "text/plain": [
       "<graphviz.dot.Digraph at 0x7f5e48adf5c0>"
      ]
     },
     "execution_count": 8,
     "metadata": {},
     "output_type": "execute_result"
    }
   ],
   "source": [
    "# set up the symbolic SIR model\n",
    "\n",
    "state = ['S', 'I', 'R']\n",
    "param_list = ['beta', 'gamma', 'N']\n",
    "\n",
    "# Equations can be set up in a variety of ways; either by providing the equations for each state individually,\n",
    "# or listing the transitions (shown here).\n",
    "\n",
    "transition = [\n",
    "    Transition(origin='S', destination='I', equation='beta*S*I/N',\n",
    "               transition_type=TransitionType.T),\n",
    "    Transition(origin='I', destination='R', equation='gamma*I',\n",
    "               transition_type=TransitionType.T)\n",
    "    ]\n",
    "\n",
    "SIR_model = DeterministicOde(state, param_list, transition=transition)\n",
    "SIR_model.get_transition_graph()"
   ]
  },
  {
   "cell_type": "code",
   "execution_count": 17,
   "metadata": {},
   "outputs": [],
   "source": [
    "R_0 = 2.4 # (beta/gamma)\n",
    "N = 33_000_000 # Pop of Kerala\n",
    "gamma = 1/8 # Avg time an individual remain infectious = 8 days\n",
    "beta = gamma*R_0\n",
    "\n",
    "# Standard SIR model with 2 parameters\n",
    "paramEval = {'beta':beta, 'gamma':gamma}\n",
    "# initialize the model\n",
    "ode = common_models.SIR(paramEval)\n",
    "\n",
    "initial_infected=3 # as on 2020-03-08 (start date)\n",
    "\n",
    "ini_prop = (initial_infected/N)\n",
    "\n",
    "x0 = [1-ini_prop, ini_prop, 0]\n",
    "\n",
    "t = np.linspace(0, 18,19)"
   ]
  },
  {
   "cell_type": "markdown",
   "metadata": {},
   "source": [
    "We provide a guess for $\\beta$ and $\\gamma$. We have information about the infected and removed population, up to 17 days of the epidemic."
   ]
  },
  {
   "cell_type": "code",
   "execution_count": 18,
   "metadata": {},
   "outputs": [
    {
     "data": {
      "text/plain": [
       "[0.3, 0.125]"
      ]
     },
     "execution_count": 18,
     "metadata": {},
     "output_type": "execute_result"
    }
   ],
   "source": [
    "theta = [beta, gamma]\n",
    "theta"
   ]
  },
  {
   "cell_type": "code",
   "execution_count": 19,
   "metadata": {},
   "outputs": [
    {
     "data": {
      "text/plain": [
       "[0.9999999090909091, 9.090909090909091e-08, 0]"
      ]
     },
     "execution_count": 19,
     "metadata": {},
     "output_type": "execute_result"
    }
   ],
   "source": [
    "# fit_param_dat.values\n",
    "x0"
   ]
  },
  {
   "cell_type": "code",
   "execution_count": 20,
   "metadata": {},
   "outputs": [
    {
     "data": {
      "text/plain": [
       "(18, 2)"
      ]
     },
     "execution_count": 20,
     "metadata": {},
     "output_type": "execute_result"
    }
   ],
   "source": [
    "I_R_act = fit_param_dat.values/N\n",
    "I_R_act.shape"
   ]
  },
  {
   "cell_type": "code",
   "execution_count": 23,
   "metadata": {},
   "outputs": [],
   "source": [
    "# Initial guess of parameters, and bounding constraints\n",
    "boxBounds = [(0.0,5.0),(0.0,5.0)]\n",
    "\n",
    "objSIR = SquareLoss(theta, ode, x0, t[0], t[1::], I_R_act, ['I','R'])"
   ]
  },
  {
   "cell_type": "code",
   "execution_count": 27,
   "metadata": {},
   "outputs": [
    {
     "name": "stdout",
     "output_type": "stream",
     "text": [
      "     fun: 1.1510301255773658e-11\n",
      "     jac: array([-1.65683055e-10,  2.57821731e-10])\n",
      " message: 'Optimization terminated successfully.'\n",
      "    nfev: 1\n",
      "     nit: 1\n",
      "    njev: 1\n",
      "  status: 0\n",
      " success: True\n",
      "       x: array([0.3  , 0.125])\n"
     ]
    }
   ],
   "source": [
    "# perform optimization\n",
    "res = minimize(fun=objSIR.cost,\n",
    "                jac=objSIR.sensitivity,\n",
    "                x0=theta,\n",
    "                bounds=boxBounds,\n",
    "                method='SLSQP')\n",
    "print(res)"
   ]
  },
  {
   "cell_type": "code",
   "execution_count": 25,
   "metadata": {},
   "outputs": [
    {
     "data": {
      "text/plain": [
       "array([0.3  , 0.125])"
      ]
     },
     "execution_count": 25,
     "metadata": {},
     "output_type": "execute_result"
    }
   ],
   "source": [
    "res.x"
   ]
  },
  {
   "cell_type": "code",
   "execution_count": 28,
   "metadata": {},
   "outputs": [],
   "source": [
    "# model with fitted parameters \n",
    "ode_fit = common_models.SIR({'beta':res.x[0], 'gamma':res.x[1]})"
   ]
  },
  {
   "cell_type": "code",
   "execution_count": 29,
   "metadata": {},
   "outputs": [
    {
     "data": {
      "image/png": "[encoded data removed]",
      "text/plain": [
       "<Figure size 432x288 with 3 Axes>"
      ]
     },
     "metadata": {},
     "output_type": "display_data"
    },
    {
     "name": "stdout",
     "output_type": "stream",
     "text": [
      "Peak infection (days) 94.14414414414415\n",
      "R0 (beta/gamma) =  2.4\n"
     ]
    }
   ],
   "source": [
    "x0_fit = x0\n",
    "t_fit = np.linspace(0, 150, 1000)\n",
    "ode_fit.initial_values = (x0_fit, t_fit[0])\n",
    "sol_fit = ode_fit.integrate(t_fit[1::])\n",
    "ode_fit.plot()\n",
    "\n",
    "peak_i = np.argmax(sol_fit[:,1])\n",
    "print('Peak infection (days)', t_fit[peak_i])\n",
    "print('R0 (beta/gamma) = ', res.x[0]/res.x[1])"
   ]
  },
  {
   "cell_type": "code",
   "execution_count": 33,
   "metadata": {},
   "outputs": [
    {
     "data": {
      "text/plain": [
       "(18, 2)"
      ]
     },
     "execution_count": 33,
     "metadata": {},
     "output_type": "execute_result"
    }
   ],
   "source": [
    "I_R_act.shape"
   ]
  },
  {
   "cell_type": "code",
   "execution_count": 36,
   "metadata": {},
   "outputs": [
    {
     "data": {
      "text/plain": [
       "(18,)"
      ]
     },
     "execution_count": 36,
     "metadata": {},
     "output_type": "execute_result"
    }
   ],
   "source": [
    "t[1:].shape"
   ]
  },
  {
   "cell_type": "code",
   "execution_count": 37,
   "metadata": {},
   "outputs": [
    {
     "data": {
      "image/png": "[encoded data removed]",
      "text/plain": [
       "<Figure size 432x288 with 1 Axes>"
      ]
     },
     "metadata": {},
     "output_type": "display_data"
    }
   ],
   "source": [
    "plt.plot(t[1:],I_R_act[:,0], 'bo') # infected observations\n",
    "plt.plot(t[1:],I_R_act[:,1], 'go') # removed observations (recoverd/died)\n",
    "plt.plot(t_fit, sol_fit)\n",
    "plt.show()"
   ]
  }
 ],
 "metadata": {
  "kernelspec": {
   "display_name": "conda_pytorch_p36",
   "language": "python",
   "name": "conda_pytorch_p36"
  },
  "language_info": {
   "codemirror_mode": {
    "name": "ipython",
    "version": 3
   },
   "file_extension": ".py",
   "mimetype": "text/x-python",
   "name": "python",
   "nbconvert_exporter": "python",
   "pygments_lexer": "ipython3",
   "version": "3.6.5"
  }
 },
 "nbformat": 4,
 "nbformat_minor": 4
}
